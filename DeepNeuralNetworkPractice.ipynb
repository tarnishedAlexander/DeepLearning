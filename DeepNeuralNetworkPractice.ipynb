{
 "cells": [
  {
   "cell_type": "code",
   "execution_count": 2,
   "id": "aeef3253",
   "metadata": {},
   "outputs": [],
   "source": [
    "import numpy as np"
   ]
  },
  {
   "cell_type": "code",
   "execution_count": 12,
   "id": "934579cc",
   "metadata": {},
   "outputs": [],
   "source": [
    "def initParameters(layerDims):\n",
    "    np.random.seed(3)\n",
    "    parameter={}\n",
    "    L = len(layerDims)\n",
    "    for l in range(1, L):\n",
    "        parameter[\"W\" + str(l)] = np.random.randn(layerDims[l], layerDims[l-1])\n",
    "        parameter[\"b\" + str(l)] = np.zeros((layerDims[l],1))\n",
    "    return parameter"
   ]
  },
  {
   "cell_type": "code",
   "execution_count": 4,
   "id": "03ac7520",
   "metadata": {},
   "outputs": [],
   "source": [
    "def sigmoid(Z):\n",
    "    A = 1/(1 + np.exp(-Z))\n",
    "    cache = Z\n",
    "    return A, cache"
   ]
  },
  {
   "cell_type": "code",
   "execution_count": 5,
   "id": "42cafb22",
   "metadata": {},
   "outputs": [],
   "source": [
    "def relu(Z):\n",
    "    A = np.maximum(0,Z)\n",
    "    cache = Z\n",
    "    return A, cache"
   ]
  },
  {
   "cell_type": "code",
   "execution_count": 8,
   "id": "f7b3c5ad",
   "metadata": {},
   "outputs": [],
   "source": [
    "def Dsigmoid(dA, cache):\n",
    "    Z= cache\n",
    "    s = 1/(1+np.exp(-Z))\n",
    "    dZ = dA * s * (1-s)\n",
    "    return dZ"
   ]
  },
  {
   "cell_type": "code",
   "execution_count": 20,
   "id": "204d1c21",
   "metadata": {},
   "outputs": [],
   "source": [
    "def dRelu(dA,cache):\n",
    "    Z = cache\n",
    "    dZ = np.array(dA, copy = True)\n",
    "    dZ[dZ <= 0] = 0\n",
    "    return dZ"
   ]
  },
  {
   "cell_type": "code",
   "execution_count": 9,
   "id": "c2fcdbe8",
   "metadata": {},
   "outputs": [],
   "source": [
    "def forward(A,W,b):\n",
    "    Z = np.dot(W,A) + b\n",
    "    cache = (A,W,b)\n",
    "    return Z, cache"
   ]
  },
  {
   "cell_type": "code",
   "execution_count": 10,
   "id": "e93e0f46",
   "metadata": {},
   "outputs": [],
   "source": [
    "def actForward(Aprev, W, b,act):\n",
    "    Z, linearCache = forward(Aprev, W, b)\n",
    "    if act == \"sigmoid\":\n",
    "        A, actCache = sigmoid(Z)\n",
    "    elif act == \"relu\":\n",
    "        A, actCache = relu(Z)\n",
    "    cache = (linearCache, actCache)\n",
    "    return A, cache"
   ]
  },
  {
   "cell_type": "code",
   "execution_count": 18,
   "id": "17a259f5",
   "metadata": {},
   "outputs": [],
   "source": [
    "def DeepForward(X, parameters):\n",
    "    caches = []\n",
    "    A = X\n",
    "    L = len(parameters)\n",
    "    for l in range(1, L):\n",
    "        Aprev = A\n",
    "        A, cache = actForward(A, parameters[\"W\" + str(l)],parameters[\"b\" + str(l)], \"relu\" )\n",
    "        caches.append(cache)\n",
    "    AL, cache = actForward(A, parameters[\"W\" + str(l)],parameters[\"b\" + str(l)], \"sigmoid\" )\n",
    "    caches.append(cache)\n",
    "    return AL, caches"
   ]
  },
  {
   "cell_type": "code",
   "execution_count": 17,
   "id": "9d63264f",
   "metadata": {},
   "outputs": [],
   "source": [
    "def computeCost(AL,Y):\n",
    "    m = Y.shape[1]\n",
    "    cost = -np.sum(np.dot(y, np.log(AL)) + np.dot((1-Y), np.log(1-AL)))/m\n",
    "    cost= np.squeeze(cost)\n",
    "    return cost"
   ]
  },
  {
   "cell_type": "code",
   "execution_count": 19,
   "id": "395addd0",
   "metadata": {},
   "outputs": [],
   "source": [
    "def backward(dZ,cache):\n",
    "    Aprev, W, b = cache \n",
    "    m = Aprev.shape[1]\n",
    "    dW = np.dot(dZ, Aprev)/m\n",
    "    db = np.sum(dZ, axis = 1, keepdims=True)/m\n",
    "    dAprev = np.dot(W.T, dZ)\n",
    "    return dAprev, dW, db"
   ]
  },
  {
   "cell_type": "code",
   "execution_count": 21,
   "id": "8e5df959",
   "metadata": {},
   "outputs": [],
   "source": [
    "def actBackward(dA, cache, act):\n",
    "    linearCache, actCache = cache\n",
    "    if act == \"relu\":\n",
    "        dZ = dRelu(dA, actCache)\n",
    "        dAprev, dW, db = backward(dZ, linearCache)\n",
    "    if act == \"sigmoid\":\n",
    "        dZ = Dsigmoid(dA, actCache)\n",
    "        dAprev, dW, db = backward(dZ, linearCache)\n",
    "    return dAprev, dW, db"
   ]
  },
  {
   "cell_type": "code",
   "execution_count": 22,
   "id": "c674063e",
   "metadata": {},
   "outputs": [],
   "source": [
    "def deepBackward(AL, Y, cache):\n",
    "    grads = {}\n",
    "    L = len(cache)\n",
    "    m = AL.shape[1]\n",
    "    Y = Y.reshape(AL.shape)\n",
    "    dAL = -(np.divide(Y, AL) - np.divide(1-Y, 1-AL))\n",
    "    currentCache = cache[L-1]\n",
    "    dAprevTemp, dWTemp, dbTemp = actBackward(dAL, currentCache, \"sigmoid\")\n",
    "    grads[\"dA\" + str(L-1)] = dAprevTemp\n",
    "    grads[\"dW\" + str(L)] = dWTemp\n",
    "    grads[\"db\" + str(L)] = dbTemp\n",
    "    return grads"
   ]
  },
  {
   "cell_type": "code",
   "execution_count": 23,
   "id": "a63cb49d",
   "metadata": {},
   "outputs": [],
   "source": [
    "def updateParameters(parameters, grads, learningRate):\n",
    "    parameters = copy.deepcopy(parameters)\n",
    "    L = len(parameters)//2\n",
    "    for l in range(L):\n",
    "        parameters[\"W\" + str(l)] -= learningRate*grads[\"dW\" + str(l+1)]\n",
    "        parameters[\"b\" + str(l)] -= learningRate*grads[\"db\" + str(l+1)]\n",
    "    return parameters"
   ]
  },
  {
   "cell_type": "code",
   "execution_count": 24,
   "id": "df5b867a",
   "metadata": {},
   "outputs": [],
   "source": [
    "def predic(X,Y, parameters):\n",
    "    m = X.shape[1]\n",
    "    n = len(Y)\n",
    "    p = np.zeros((1,m))\n",
    "    proba,caches = DeepForward(X, parameters)\n",
    "    for l in range(0, proba.shape[1]): \n",
    "        if proba[0,l] > 0.5:\n",
    "            proba[0,l] = 1\n",
    "        else :\n",
    "            proba[0,l] = 0\n",
    "    return p "
   ]
  },
  {
   "cell_type": "code",
   "execution_count": 27,
   "id": "9435ebec",
   "metadata": {},
   "outputs": [],
   "source": [
    "def LLayerModel(X,Y, layerDims, learningRate  =0.0075, iter = 3000, printCost =False):\n",
    "    np.random.seed(1)\n",
    "    cost = []\n",
    "    parameters = initParameters (layerDims)\n",
    "    for l in range(0,iter):\n",
    "        AL, caches = DeepForward(X, parameters)\n",
    "        cost = computeCost(AL, Y)\n",
    "        grads = deepBackward(AL,Y,caches)\n",
    "        parameters = updateParameters(parameters, grads, learningRate)\n",
    "        if printCost and i % 100 == 0 or i == iter-1:\n",
    "            print(\"The cost function {}: {}\".format(i, np.squeeze(cost)))\n",
    "        if i % 100 == 0 or i == iter:\n",
    "            cost.squeeze(cost)\n",
    "    return parameters, cost"
   ]
  },
  {
   "cell_type": "markdown",
   "id": "6ffe4fa3",
   "metadata": {},
   "source": [
    "I still need to learn how to use the data and start training. Dr Erwin hero?"
   ]
  },
  {
   "cell_type": "code",
   "execution_count": null,
   "id": "0ba71dd7",
   "metadata": {},
   "outputs": [],
   "source": []
  }
 ],
 "metadata": {
  "kernelspec": {
   "display_name": "Python 3 (ipykernel)",
   "language": "python",
   "name": "python3"
  },
  "language_info": {
   "codemirror_mode": {
    "name": "ipython",
    "version": 3
   },
   "file_extension": ".py",
   "mimetype": "text/x-python",
   "name": "python",
   "nbconvert_exporter": "python",
   "pygments_lexer": "ipython3",
   "version": "3.11.3"
  }
 },
 "nbformat": 4,
 "nbformat_minor": 5
}
