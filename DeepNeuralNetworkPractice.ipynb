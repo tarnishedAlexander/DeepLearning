{
 "cells": [
  {
   "cell_type": "code",
   "execution_count": 307,
   "id": "aeef3253",
   "metadata": {},
   "outputs": [],
   "source": [
    "import cv2\n",
    "import os\n",
    "import matplotlib.pyplot as plt\n",
    "import numpy as np\n",
    "import matplotlib.image as mpimg\n",
    "import copy\n",
    "from numba import jit, njit, vectorize, cuda, uint32, f8,uint8\n",
    "import cupy as cp\n",
    "import h5py\n",
    "from PIL import Image"
   ]
  },
  {
   "cell_type": "code",
   "execution_count": 308,
   "id": "9d393465",
   "metadata": {},
   "outputs": [],
   "source": [
    "def load():\n",
    "    directorio_cats = \"/home/theTarnished/Desktop/theTarnished/AI/train/training_set/cats\"\n",
    "    directorio_dogs = \"/home/theTarnished/Desktop/theTarnished/AI/train/training_set/dogs\"\n",
    "    directorio_cats_test = \"/home/theTarnished/Desktop/theTarnished/AI/train/test_set-20231013T163722Z-001/test_set/cats\"\n",
    "    directorio_dogs_test = \"/home/theTarnished/Desktop/theTarnished/AI/train/test_set-20231013T163722Z-001/test_set/dogs\"\n",
    "    \n",
    "    archivos_cats = os.listdir(directorio_cats)\n",
    "    L_cats = len(archivos_cats) // 4\n",
    "\n",
    "    train = np.empty((0, 64, 64, 3))\n",
    "\n",
    "    for i in range(L_cats):\n",
    "        joinImage = os.path.join(directorio_cats, archivos_cats[i])\n",
    "        charge = mpimg.imread(joinImage)\n",
    "        imagereduce = cv2.resize(charge, (64, 64), interpolation=cv2.INTER_AREA)\n",
    "        train = np.append(train, [imagereduce], axis=0)\n",
    "\n",
    "    archivos_dogs = os.listdir(directorio_dogs)\n",
    "    L_dogs = (len(archivos_dogs) // 4)-1\n",
    "\n",
    "    for i in range(L_dogs):\n",
    "        joinImage = os.path.join(directorio_dogs, archivos_dogs[i])\n",
    "        charge = mpimg.imread(joinImage)\n",
    "        imagereduce = cv2.resize(charge, (64, 64), interpolation=cv2.INTER_AREA)\n",
    "        train = np.append(train, [imagereduce], axis=0)\n",
    "        \n",
    "    ones = np.ones((1000, 1))\n",
    "    zeros = np.zeros((1000, 1))\n",
    "    trainy = np.vstack((ones, zeros))\n",
    "    random = train.shape[0]\n",
    "    randomIndex = np.random.permutation(random)\n",
    "    train = train[randomIndex]\n",
    "    trainy = trainy[randomIndex]\n",
    "    trainy = trainy.flatten()\n",
    "    trainyInt = (trainy + 0.5).astype(int)\n",
    "    trainy = np.array([trainyInt])\n",
    "\n",
    "\n",
    "    archivos_cats_test = os.listdir(directorio_cats_test)\n",
    "    L_cats_test = (len(archivos_cats_test))-11 \n",
    "\n",
    "    test = np.empty((0, 64, 64, 3))\n",
    "\n",
    "    for i in range(L_cats_test):\n",
    "        joinImage_test = os.path.join(directorio_cats_test, archivos_cats_test[i])\n",
    "        charge_test = mpimg.imread(joinImage_test)\n",
    "        imagereduce_test = cv2.resize(charge_test, (64, 64), interpolation=cv2.INTER_AREA)\n",
    "        test = np.append(test, [imagereduce_test], axis=0)\n",
    "    archivos_dogs_test = os.listdir(directorio_dogs_test)\n",
    "    L_dogs_test = (len(archivos_dogs_test))-12\n",
    "    for i in range(L_dogs_test):\n",
    "        joinImage_test = os.path.join(directorio_dogs_test, archivos_dogs_test[i])\n",
    "        charge_test = mpimg.imread(joinImage_test)\n",
    "        imagereduce_test = cv2.resize(charge_test, (64, 64), interpolation=cv2.INTER_AREA)\n",
    "        test = np.append(test, [imagereduce_test], axis=0)\n",
    "        \n",
    "    ones = np.ones((1000, 1))\n",
    "    zeros = np.zeros((1000, 1))\n",
    "    testy = np.vstack((ones, zeros))\n",
    "    random = test.shape[0]\n",
    "    randomIndex = np.random.permutation(random)\n",
    "    test = test[randomIndex]\n",
    "    testy = testy[randomIndex]\n",
    "    testy = testy.flatten()\n",
    "    testyInt = (testy + 0.5).astype(int)\n",
    "    testy = np.array([testy])\n",
    "\n",
    "    \n",
    "    classes = np.array([b'non-cat', b'cat'], dtype= '|S7')\n",
    "    \n",
    "    return train, trainy, test, testy, classes"
   ]
  },
  {
   "cell_type": "code",
   "execution_count": 309,
   "id": "cf7f1a25",
   "metadata": {},
   "outputs": [],
   "source": [
    "def loadData():\n",
    "    train_dataset = h5py.File('/home/theTarnished/Desktop/theTarnished/AI/train/train_catvnoncat.h5', \"r\")\n",
    "    train_set_x_orig = np.array(train_dataset[\"train_set_x\"][:])\n",
    "    train_set_y_orig = np.array(train_dataset[\"train_set_y\"][:])  \n",
    "\n",
    "    test_dataset = h5py.File('/home/theTarnished/Desktop/theTarnished/AI/train/test_catvnoncat.h5', \"r\")\n",
    "    test_set_x_orig = np.array(test_dataset[\"test_set_x\"][:]) \n",
    "    test_set_y_orig = np.array(test_dataset[\"test_set_y\"][:])\n",
    "\n",
    "    classes = np.array(test_dataset[\"list_classes\"][:]) \n",
    "    \n",
    "    train_set_y_orig = train_set_y_orig.reshape((1, train_set_y_orig.shape[0]))\n",
    "    test_set_y_orig = test_set_y_orig.reshape((1, test_set_y_orig.shape[0]))\n",
    "    \n",
    "    return train_set_x_orig, train_set_y_orig, test_set_x_orig, test_set_y_orig, classes"
   ]
  },
  {
   "cell_type": "code",
   "execution_count": 310,
   "id": "934579cc",
   "metadata": {},
   "outputs": [],
   "source": [
    "def initparm(layerDim):\n",
    "    np.random.seed(1)\n",
    "    parameters = {}\n",
    "    L = len(layerDim)\n",
    "    \n",
    "    for l in range(1, L):\n",
    "        parameters[\"W\" + str(l)] = np.random.randn(layerDim[l], layerDim[l-1])/ np.sqrt(layerDim[l-1])\n",
    "        parameters[\"b\" + str(l)] = np.zeros((layerDim[l],1))\n",
    "    return parameters"
   ]
  },
  {
   "cell_type": "code",
   "execution_count": 311,
   "id": "03ac7520",
   "metadata": {},
   "outputs": [],
   "source": [
    "def sigmoid(Z):\n",
    "    cache = Z\n",
    "    A = 1/(1+np.exp(-Z))\n",
    "    return A, cache"
   ]
  },
  {
   "cell_type": "code",
   "execution_count": 312,
   "id": "42cafb22",
   "metadata": {},
   "outputs": [],
   "source": [
    "def relu(Z):\n",
    "    A = np.maximum(0,Z)\n",
    "    cache = Z\n",
    "    return A,cache"
   ]
  },
  {
   "cell_type": "code",
   "execution_count": 313,
   "id": "f7b3c5ad",
   "metadata": {},
   "outputs": [],
   "source": [
    "def dSigmoid(dA, cache):\n",
    "    Z = cache \n",
    "    s = 1/(1+np.exp(-Z))\n",
    "    dZ = dA * s * (1-s)\n",
    "    return dZ"
   ]
  },
  {
   "cell_type": "code",
   "execution_count": 314,
   "id": "204d1c21",
   "metadata": {},
   "outputs": [],
   "source": [
    "def dRelu(dA, cache):\n",
    "    Z = cache\n",
    "    dZ = np.array(dA, copy = True)\n",
    "    dZ[Z<=0] = 0\n",
    "    assert (dZ.shape == Z.shape)\n",
    "\n",
    "    return dZ"
   ]
  },
  {
   "cell_type": "code",
   "execution_count": 315,
   "id": "c2fcdbe8",
   "metadata": {},
   "outputs": [],
   "source": [
    "def forward(A,W,b):\n",
    "    Z = W.dot(A) + b\n",
    "    cache = (A,W,b)\n",
    "    return Z, cache"
   ]
  },
  {
   "cell_type": "code",
   "execution_count": 316,
   "id": "e93e0f46",
   "metadata": {},
   "outputs": [],
   "source": [
    "def actForward(Aprev, W, b, act):\n",
    "    Z, linearCache = forward(Aprev,W,b)\n",
    "    if act == \"sigmoid\":\n",
    "        A, actCache = sigmoid(Z)\n",
    "    elif act == \"relu\":\n",
    "        A, actCache = relu(Z)\n",
    "\n",
    "    cache = (linearCache,actCache)\n",
    "    return A, cache"
   ]
  },
  {
   "cell_type": "code",
   "execution_count": 317,
   "id": "17a259f5",
   "metadata": {},
   "outputs": [],
   "source": [
    "def deepForward(X, parameters):\n",
    "    caches = []\n",
    "    A = X\n",
    "    L = len(parameters)//2\n",
    "    for l in range(1,L):\n",
    "        Aprev = A\n",
    "        A, cache = actForward(Aprev, parameters[\"W\" + str(l)], parameters[\"b\" + str(l)], \"relu\")\n",
    "        caches.append(cache)\n",
    "    AL, cache = actForward(A, parameters[\"W\" + str(L)], parameters[\"b\" + str(L)], \"sigmoid\")\n",
    "    caches.append(cache)\n",
    "    return AL, caches"
   ]
  },
  {
   "cell_type": "code",
   "execution_count": 318,
   "id": "9d63264f",
   "metadata": {},
   "outputs": [],
   "source": [
    "def computeCost(AL, Y):\n",
    "    m = Y.shape[1]\n",
    "    cost = (1./m) * (-np.dot(Y,np.log(AL).T) - np.dot(1-Y, np.log(1-AL).T))\n",
    "    cost = np.squeeze(cost)\n",
    "    return cost"
   ]
  },
  {
   "cell_type": "code",
   "execution_count": 319,
   "id": "395addd0",
   "metadata": {},
   "outputs": [],
   "source": [
    "def backward(dZ, cache):\n",
    "    Aprev, W, b = cache\n",
    "    m = Aprev.shape[1]\n",
    "    dW = 1./m*np.dot(dZ, Aprev.T)\n",
    "    db = 1./m*np.sum(dZ, axis = 1, keepdims=True)\n",
    "    dAprev = np.dot(W.T, dZ)\n",
    "    return dAprev, dW,db"
   ]
  },
  {
   "cell_type": "code",
   "execution_count": 320,
   "id": "8e5df959",
   "metadata": {},
   "outputs": [],
   "source": [
    "def actBackward(dA, cache, act):\n",
    "    linearCache, actCache = cache\n",
    "    if act == \"relu\":\n",
    "        dZ = dRelu(dA, actCache)\n",
    "        dAprev, dW,db = backward(dZ, linearCache)\n",
    "    if act == \"sigmoid\":\n",
    "        dZ = dSigmoid(dA, actCache)\n",
    "        dAprev, dW, db = backward(dZ, linearCache)\n",
    "    return dAprev,dW,db"
   ]
  },
  {
   "cell_type": "code",
   "execution_count": 321,
   "id": "c674063e",
   "metadata": {},
   "outputs": [],
   "source": [
    "def deepBackward(AL, Y, cache):\n",
    "    grads = {}\n",
    "    L = len(cache)\n",
    "    Y = Y.reshape(AL.shape)\n",
    "    dAL = -(np.divide(Y,AL) - np.divide(1-Y, 1-AL))\n",
    "    currentCache = cache[L-1]\n",
    "    grads[\"dA\" + str(L-1)], grads[\"dW\" + str(L)],grads[\"db\" + str(L)] = actBackward(dAL, currentCache, \"sigmoid\")\n",
    "    \n",
    "    for l in reversed(range(L-1)):\n",
    "        currentCache = cache[l]\n",
    "        grads[\"dA\" + str(l)], grads[\"dW\" + str(l+1)],grads[\"db\" + str(l+1)] = actBackward(grads[\"dA\" + str(l+1)], currentCache, \"relu\")\n",
    "    return grads"
   ]
  },
  {
   "cell_type": "code",
   "execution_count": 322,
   "id": "a63cb49d",
   "metadata": {},
   "outputs": [],
   "source": [
    "def updateParams(params, grads, learningRate):\n",
    "    L= len(params)//2\n",
    "    for l in range(L):\n",
    "        params[\"W\" + str(l+1)] -= learningRate*grads[\"dW\" + str(l+1)]\n",
    "        params[\"b\" + str(l+1)] -= learningRate*grads[\"db\" + str(l+1)]\n",
    "    return params"
   ]
  },
  {
   "cell_type": "code",
   "execution_count": 336,
   "id": "df5b867a",
   "metadata": {},
   "outputs": [],
   "source": [
    "def predic(X,Y, parameters):\n",
    "    m = X.shape[1]\n",
    "    p = np.zeros((1,m))\n",
    "    proba,caches = deepForward(X, parameters)\n",
    "\n",
    "    for l in range(proba.shape[1]):\n",
    "        if proba[0,l] > 0.5:\n",
    "            p[0, l] = 1\n",
    "        else:\n",
    "            p[0,l] = 0\n",
    "            \n",
    "    print(\"Accuracy: \"  + str(np.sum((p == Y)/m)))\n",
    "    return p"
   ]
  },
  {
   "cell_type": "code",
   "execution_count": 324,
   "id": "9435ebec",
   "metadata": {},
   "outputs": [],
   "source": [
    "def LLayermodel(X,Y, layerDims, learningRate = 0.0075, iter = 3000):\n",
    "    np.random.seed(1)\n",
    "    costs = []\n",
    "    parameters = initparm(layerDims)\n",
    "    for l in range(iter):\n",
    "        AL, caches = deepForward(X,parameters)\n",
    "        cost = computeCost(AL,Y)\n",
    "        grads= deepBackward(AL, Y, caches)\n",
    "        parameters= updateParams(parameters, grads, learningRate)\n",
    "        if l % 100 == 0 or l == iter - 1:\n",
    "            print(\"Cost after iteration {}: {}\".format(l, np.squeeze(cost)))\n",
    "        if l % 100 == 0 or l == iter:\n",
    "            costs.append(cost)\n",
    "    \n",
    "    return parameters,costs"
   ]
  },
  {
   "cell_type": "markdown",
   "id": "6ffe4fa3",
   "metadata": {},
   "source": [
    "I still need to learn how to use the data and start training. Dr Erwin hero?"
   ]
  },
  {
   "cell_type": "code",
   "execution_count": 325,
   "id": "73acb865",
   "metadata": {},
   "outputs": [],
   "source": [
    "train_x_orig, train_y, test_x_orig, test_y, classes = loadData()"
   ]
  },
  {
   "cell_type": "code",
   "execution_count": 326,
   "id": "9d9062b0",
   "metadata": {},
   "outputs": [
    {
     "name": "stdout",
     "output_type": "stream",
     "text": [
      "Number of training examples: 209\n",
      "Number of testing examples: 50\n",
      "Each image is of size: (64, 64, 3)\n",
      "train_x_orig shape: (209, 64, 64, 3)\n",
      "train_y shape: (1, 209)\n",
      "test_x_orig shape: (50, 64, 64, 3)\n",
      "test_y shape: (1, 50)\n"
     ]
    }
   ],
   "source": [
    "m_train = train_x_orig.shape[0]\n",
    "num_px = train_x_orig.shape[1]\n",
    "m_test = test_x_orig.shape[0]\n",
    "\n",
    "print (\"Number of training examples: \" + str(m_train))\n",
    "print (\"Number of testing examples: \" + str(m_test))\n",
    "print (\"Each image is of size: (\" + str(num_px) + \", \" + str(num_px) + \", 3)\")\n",
    "print (\"train_x_orig shape: \" + str(train_x_orig.shape))\n",
    "print (\"train_y shape: \" + str(train_y.shape))\n",
    "print (\"test_x_orig shape: \" + str(test_x_orig.shape))\n",
    "print (\"test_y shape: \" + str(test_y.shape))"
   ]
  },
  {
   "cell_type": "code",
   "execution_count": 327,
   "id": "13c03182",
   "metadata": {},
   "outputs": [
    {
     "name": "stdout",
     "output_type": "stream",
     "text": [
      "train_x's shape: (12288, 209)\n",
      "test_x's shape: (12288, 50)\n"
     ]
    }
   ],
   "source": [
    "train_x_flatten = train_x_orig.reshape(train_x_orig.shape[0], -1).T   # The \"-1\" makes reshape flatten the remaining dimensions\n",
    "test_x_flatten = test_x_orig.reshape(test_x_orig.shape[0], -1).T\n",
    "\n",
    "train_x = train_x_flatten/255.\n",
    "test_x = test_x_flatten/255.\n",
    "\n",
    "print (\"train_x's shape: \" + str(train_x.shape))\n",
    "print (\"test_x's shape: \" + str(test_x.shape))"
   ]
  },
  {
   "cell_type": "code",
   "execution_count": 328,
   "id": "b7cc83bb",
   "metadata": {},
   "outputs": [
    {
     "name": "stdout",
     "output_type": "stream",
     "text": [
      "Cost after iteration 0: 0.6683497851097117\n",
      "Cost after iteration 100: 0.531540810271629\n",
      "Cost after iteration 200: 0.46261712822816925\n",
      "Cost after iteration 300: 0.41414375904619133\n",
      "Cost after iteration 400: 0.3775900746509522\n",
      "Cost after iteration 500: 0.3437401410600824\n",
      "Cost after iteration 600: 0.29775100229861445\n",
      "Cost after iteration 700: 0.26352333221198965\n",
      "Cost after iteration 800: 0.19947319417134468\n",
      "Cost after iteration 900: 0.1560703890228815\n",
      "Cost after iteration 1000: 0.10313222632500317\n",
      "Cost after iteration 1100: 0.0810495749313932\n",
      "Cost after iteration 1200: 0.06324018768318845\n",
      "Cost after iteration 1300: 0.051276854171177555\n",
      "Cost after iteration 1400: 0.04246577610987373\n",
      "Cost after iteration 1500: 0.03570026802825601\n",
      "Cost after iteration 1600: 0.030434320958399645\n",
      "Cost after iteration 1700: 0.02625171802630902\n",
      "Cost after iteration 1800: 0.02290184193769194\n",
      "Cost after iteration 1900: 0.02015318490695778\n",
      "Cost after iteration 2000: 0.017888444388497432\n",
      "Cost after iteration 2100: 0.016004023850451316\n",
      "Cost after iteration 2200: 0.014410848820891145\n",
      "Cost after iteration 2300: 0.01305690597915279\n",
      "Cost after iteration 2400: 0.011898584023725166\n",
      "Cost after iteration 2500: 0.010904242687572728\n",
      "Cost after iteration 2600: 0.010032440998202262\n",
      "Cost after iteration 2700: 0.00927654731730723\n",
      "Cost after iteration 2800: 0.00860356219588564\n",
      "Cost after iteration 2900: 0.008011512987590584\n",
      "Cost after iteration 3000: 0.007484750696912114\n",
      "Cost after iteration 3100: 0.007013121124132415\n",
      "Cost after iteration 3200: 0.006590312109150895\n",
      "Cost after iteration 3300: 0.006208819067755055\n",
      "Cost after iteration 3400: 0.00586280327692181\n",
      "Cost after iteration 3500: 0.005548440777967945\n",
      "Cost after iteration 3600: 0.005262665211142884\n",
      "Cost after iteration 3700: 0.005000219038375161\n",
      "Cost after iteration 3800: 0.004760122114561718\n",
      "Cost after iteration 3900: 0.0045388195047114084\n",
      "Cost after iteration 4000: 0.004334255795759604\n",
      "Cost after iteration 4100: 0.004146216025863409\n",
      "Cost after iteration 4200: 0.003971763791984854\n",
      "Cost after iteration 4300: 0.003808028120190588\n",
      "Cost after iteration 4400: 0.003657172927732205\n",
      "Cost after iteration 4500: 0.0035158469166666094\n",
      "Cost after iteration 4600: 0.0033831233627657016\n",
      "Cost after iteration 4700: 0.003259392129487708\n",
      "Cost after iteration 4800: 0.0031433756337886777\n",
      "Cost after iteration 4900: 0.00303492597788393\n",
      "Cost after iteration 4999: 0.0029328206165945337\n"
     ]
    }
   ],
   "source": [
    "layers_dims = [12288,25,5, 1]  \n",
    "parameters, cost = LLayermodel(train_x,train_y, layers_dims, learningRate = 0.005, iter = 5000)"
   ]
  },
  {
   "cell_type": "code",
   "execution_count": 337,
   "id": "4282d8e0",
   "metadata": {},
   "outputs": [
    {
     "name": "stdout",
     "output_type": "stream",
     "text": [
      "Accuracy: 0.9999999999999998\n"
     ]
    }
   ],
   "source": [
    "pred_train = predic(train_x, train_y, parameters)"
   ]
  },
  {
   "cell_type": "code",
   "execution_count": 338,
   "id": "ff2a44a7",
   "metadata": {},
   "outputs": [
    {
     "name": "stdout",
     "output_type": "stream",
     "text": [
      "Accuracy: 0.76\n"
     ]
    }
   ],
   "source": [
    "pred_test = predic(test_x, test_y, parameters)"
   ]
  },
  {
   "cell_type": "code",
   "execution_count": 331,
   "id": "5db7f8c3",
   "metadata": {},
   "outputs": [
    {
     "data": {
      "text/plain": [
       "(1, 2000)"
      ]
     },
     "execution_count": 331,
     "metadata": {},
     "output_type": "execute_result"
    }
   ],
   "source": [
    "trainy.shape"
   ]
  },
  {
   "cell_type": "code",
   "execution_count": 332,
   "id": "25b63c55",
   "metadata": {},
   "outputs": [
    {
     "data": {
      "text/plain": [
       "2000"
      ]
     },
     "execution_count": 332,
     "metadata": {},
     "output_type": "execute_result"
    }
   ],
   "source": [
    "trainx.shape[1]"
   ]
  },
  {
   "cell_type": "code",
   "execution_count": null,
   "id": "14b5e6f5",
   "metadata": {},
   "outputs": [],
   "source": []
  },
  {
   "cell_type": "code",
   "execution_count": 363,
   "id": "f4f47586",
   "metadata": {},
   "outputs": [
    {
     "name": "stdout",
     "output_type": "stream",
     "text": [
      "Accuracy: 1.0\n",
      "y = 1.0, your L-layer model predicts a \"cat\" picture.\n"
     ]
    },
    {
     "data": {
      "image/png": "[encoded data removed]",
      "text/plain": [
       "<Figure size 640x480 with 1 Axes>"
      ]
     },
     "metadata": {},
     "output_type": "display_data"
    }
   ],
   "source": [
    "my_image = \"cat.4014.jpg\" \n",
    "my_label_y = [1] \n",
    "\n",
    "fname = \"/home/theTarnished/Desktop/theTarnished/AI/train/test_set-20231013T163722Z-001/test_set/cats/\" + my_image\n",
    "image = np.array(Image.open(fname).resize((numPx, numPx)))\n",
    "plt.imshow(image)\n",
    "image = image / 255.\n",
    "image = image.reshape((1, numPx * numPx * 3)).T\n",
    "\n",
    "my_predicted_image = predic(image, my_label_y, parameters)\n",
    "\n",
    "\n",
    "print (\"y = \" + str(np.squeeze(my_predicted_image)) + \", your L-layer model predicts a \\\"\" + classes[int(np.squeeze(my_predicted_image)),].decode(\"utf-8\") +  \"\\\" picture.\")"
   ]
  },
  {
   "cell_type": "code",
   "execution_count": 340,
   "id": "2537f809",
   "metadata": {},
   "outputs": [],
   "source": [
    "trainxOrigin, trainy, testxOrigin, testy, classes = load()"
   ]
  },
  {
   "cell_type": "code",
   "execution_count": 341,
   "id": "acf644fa",
   "metadata": {},
   "outputs": [
    {
     "name": "stdout",
     "output_type": "stream",
     "text": [
      "Number of training examples: 2000\n",
      "Number of testing examples: 2000\n",
      "Each image is of size: (64, 64, 3)\n",
      "train_x_orig shape: (2000, 64, 64, 3)\n",
      "train_y shape: (1, 2000)\n",
      "test_x_orig shape: (2000, 64, 64, 3)\n",
      "test_y shape: (1, 2000)\n"
     ]
    }
   ],
   "source": [
    "mTrain= trainxOrigin.shape[0]\n",
    "numPx = trainxOrigin.shape[1]\n",
    "mTest = testxOrigin.shape[0]\n",
    "print (\"Number of training examples: \" + str(mTrain))\n",
    "print (\"Number of testing examples: \" + str(mTest))\n",
    "print (\"Each image is of size: (\" + str(numPx) + \", \" + str(numPx) + \", 3)\")\n",
    "print (\"train_x_orig shape: \" + str(trainxOrigin.shape))\n",
    "print (\"train_y shape: \" + str(trainy.shape))\n",
    "print (\"test_x_orig shape: \" + str(testxOrigin.shape))\n",
    "print (\"test_y shape: \" + str(testy.shape))"
   ]
  },
  {
   "cell_type": "code",
   "execution_count": 342,
   "id": "f3ea6240",
   "metadata": {},
   "outputs": [],
   "source": [
    "trainxFlatten = trainxOrigin.reshape(trainxOrigin.shape[0],-1).T\n",
    "testxFlatten = testxOrigin.reshape(testxOrigin.shape[0],-1).T\n",
    "trainx = trainxFlatten/255.\n",
    "testx = testxFlatten/255."
   ]
  },
  {
   "cell_type": "code",
   "execution_count": 354,
   "id": "9f15b13c",
   "metadata": {},
   "outputs": [
    {
     "name": "stdout",
     "output_type": "stream",
     "text": [
      "Cost after iteration 0: 0.7089269457180424\n",
      "Cost after iteration 100: 0.6568352624537601\n",
      "Cost after iteration 200: 0.6430782193839194\n",
      "Cost after iteration 300: 0.6293488042547172\n",
      "Cost after iteration 400: 0.6119662787527684\n",
      "Cost after iteration 500: 0.6047292513133918\n",
      "Cost after iteration 600: 0.5954975612521605\n",
      "Cost after iteration 700: 0.5815634410371806\n",
      "Cost after iteration 800: 0.5727275358880949\n",
      "Cost after iteration 900: 0.5683384345930199\n",
      "Cost after iteration 1000: 0.5515326963371988\n",
      "Cost after iteration 1100: 0.5405242306308815\n",
      "Cost after iteration 1200: 0.5340746815848831\n",
      "Cost after iteration 1300: 0.5253108567275893\n",
      "Cost after iteration 1400: 0.5126792303012595\n",
      "Cost after iteration 1500: 0.5007360290717109\n",
      "Cost after iteration 1600: 0.470242615988177\n",
      "Cost after iteration 1700: 0.5242998027008713\n",
      "Cost after iteration 1800: 0.44582470203784563\n",
      "Cost after iteration 1900: 0.4525752828075464\n",
      "Cost after iteration 2000: 0.37213948232875255\n",
      "Cost after iteration 2100: 0.5482960561942191\n",
      "Cost after iteration 2200: 0.42254294002303155\n",
      "Cost after iteration 2300: 0.3511114349483587\n",
      "Cost after iteration 2400: 0.5594610747337868\n",
      "Cost after iteration 2500: 0.5065144443313709\n",
      "Cost after iteration 2600: 0.36531354940199856\n",
      "Cost after iteration 2700: 0.4049717037918891\n",
      "Cost after iteration 2800: 0.35229203572236356\n",
      "Cost after iteration 2900: 0.270978776002018\n",
      "Cost after iteration 3000: 0.24497883536837395\n",
      "Cost after iteration 3100: 0.3192392946974164\n",
      "Cost after iteration 3200: 0.2666633008032957\n",
      "Cost after iteration 3300: 0.20444499513201334\n",
      "Cost after iteration 3400: 0.6964140519440046\n",
      "Cost after iteration 3500: 0.1895973799450251\n",
      "Cost after iteration 3600: 0.39005215083682504\n",
      "Cost after iteration 3700: 0.19316665335992\n",
      "Cost after iteration 3800: 0.2370845188418008\n",
      "Cost after iteration 3900: 0.3537371092428418\n",
      "Cost after iteration 4000: 0.25805410295153414\n",
      "Cost after iteration 4100: 0.3353103786419732\n",
      "Cost after iteration 4200: 0.22086685253974805\n",
      "Cost after iteration 4300: 0.166908190711424\n",
      "Cost after iteration 4400: 0.21030071223672267\n",
      "Cost after iteration 4500: 0.1782034319969134\n",
      "Cost after iteration 4600: 0.14095361294816036\n",
      "Cost after iteration 4700: 0.3141084612013295\n",
      "Cost after iteration 4800: 0.2551136962035188\n",
      "Cost after iteration 4900: 0.1509342942115458\n",
      "Cost after iteration 4999: 0.11039450958706866\n"
     ]
    }
   ],
   "source": [
    "layers_dims = [12288, 50, 25, 5, 1]\n",
    "parameters, cost = LLayermodel(trainx,trainy, layers_dims, learningRate = 0.0075, iter = 5000)"
   ]
  },
  {
   "cell_type": "code",
   "execution_count": 355,
   "id": "37e752ee",
   "metadata": {},
   "outputs": [
    {
     "name": "stdout",
     "output_type": "stream",
     "text": [
      "Accuracy: 0.5\n"
     ]
    }
   ],
   "source": [
    "pred_train = predic(trainx, trainy, parametes)"
   ]
  },
  {
   "cell_type": "code",
   "execution_count": 356,
   "id": "ca831297",
   "metadata": {},
   "outputs": [
    {
     "name": "stdout",
     "output_type": "stream",
     "text": [
      "Accuracy: 0.6045\n"
     ]
    }
   ],
   "source": [
    "pred_test = predic(testx,testy, parameters)"
   ]
  },
  {
   "cell_type": "code",
   "execution_count": 364,
   "id": "a9e5b74c",
   "metadata": {},
   "outputs": [
    {
     "name": "stdout",
     "output_type": "stream",
     "text": [
      "Accuracy: 0.0\n",
      "y = 0.0, your L-layer model predicts a \"non-cat\" picture.\n"
     ]
    },
    {
     "data": {
      "image/png": "[encoded data removed]",
      "text/plain": [
       "<Figure size 640x480 with 1 Axes>"
      ]
     },
     "metadata": {},
     "output_type": "display_data"
    }
   ],
   "source": [
    "my_image = \"WhatsApp Image 2023-09-19 at 11.35.05 PM.jpeg\" \n",
    "my_label_y = [1] \n",
    "\n",
    "fname = \"/home/theTarnished/Downloads/\" + my_image\n",
    "image = np.array(Image.open(fname).resize((numPx, numPx)))\n",
    "plt.imshow(image)\n",
    "image = image / 255.\n",
    "image = image.reshape((1, numPx * numPx * 3)).T\n",
    "\n",
    "my_predicted_image = predic(image, my_label_y, parameters)\n",
    "\n",
    "\n",
    "print (\"y = \" + str(np.squeeze(my_predicted_image)) + \", your L-layer model predicts a \\\"\" + classes[int(np.squeeze(my_predicted_image)),].decode(\"utf-8\") +  \"\\\" picture.\")"
   ]
  },
  {
   "cell_type": "code",
   "execution_count": null,
   "id": "d047eef5",
   "metadata": {},
   "outputs": [],
   "source": []
  }
 ],
 "metadata": {
  "kernelspec": {
   "display_name": "Python 3 (ipykernel)",
   "language": "python",
   "name": "python3"
  },
  "language_info": {
   "codemirror_mode": {
    "name": "ipython",
    "version": 3
   },
   "file_extension": ".py",
   "mimetype": "text/x-python",
   "name": "python",
   "nbconvert_exporter": "python",
   "pygments_lexer": "ipython3",
   "version": "3.11.3"
  }
 },
 "nbformat": 4,
 "nbformat_minor": 5
}
